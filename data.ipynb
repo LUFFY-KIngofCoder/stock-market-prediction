{
 "cells": [
  {
   "cell_type": "code",
   "execution_count": 1,
   "id": "40e3f9d9-bd14-4e30-a5ae-044f4a4aacff",
   "metadata": {},
   "outputs": [
    {
     "name": "stdout",
     "output_type": "stream",
     "text": [
      "Collecting yfinance\n",
      "  Downloading yfinance-0.2.52-py2.py3-none-any.whl.metadata (5.8 kB)\n",
      "Requirement already satisfied: pandas>=1.3.0 in c:\\users\\shash\\appdata\\local\\programs\\python\\python312\\lib\\site-packages (from yfinance) (2.2.2)\n",
      "Requirement already satisfied: numpy>=1.16.5 in c:\\users\\shash\\appdata\\local\\programs\\python\\python312\\lib\\site-packages (from yfinance) (2.0.0)\n",
      "Requirement already satisfied: requests>=2.31 in c:\\users\\shash\\appdata\\local\\programs\\python\\python312\\lib\\site-packages (from yfinance) (2.32.3)\n",
      "Collecting multitasking>=0.0.7 (from yfinance)\n",
      "  Using cached multitasking-0.0.11-py3-none-any.whl.metadata (5.5 kB)\n",
      "Requirement already satisfied: lxml>=4.9.1 in c:\\users\\shash\\appdata\\local\\programs\\python\\python312\\lib\\site-packages (from yfinance) (5.3.0)\n",
      "Requirement already satisfied: platformdirs>=2.0.0 in c:\\users\\shash\\appdata\\local\\programs\\python\\python312\\lib\\site-packages (from yfinance) (4.2.2)\n",
      "Requirement already satisfied: pytz>=2022.5 in c:\\users\\shash\\appdata\\local\\programs\\python\\python312\\lib\\site-packages (from yfinance) (2024.1)\n",
      "Collecting frozendict>=2.3.4 (from yfinance)\n",
      "  Downloading frozendict-2.4.6-py312-none-any.whl.metadata (23 kB)\n",
      "Collecting peewee>=3.16.2 (from yfinance)\n",
      "  Downloading peewee-3.17.8.tar.gz (948 kB)\n",
      "     ---------------------------------------- 0.0/948.2 kB ? eta -:--:--\n",
      "     ------------------------------------- 948.2/948.2 kB 11.1 MB/s eta 0:00:00\n",
      "  Installing build dependencies: started\n",
      "  Installing build dependencies: finished with status 'done'\n",
      "  Getting requirements to build wheel: started\n",
      "  Getting requirements to build wheel: finished with status 'done'\n",
      "  Preparing metadata (pyproject.toml): started\n",
      "  Preparing metadata (pyproject.toml): finished with status 'done'\n",
      "Requirement already satisfied: beautifulsoup4>=4.11.1 in c:\\users\\shash\\appdata\\local\\programs\\python\\python312\\lib\\site-packages (from yfinance) (4.12.3)\n",
      "Requirement already satisfied: html5lib>=1.1 in c:\\users\\shash\\appdata\\local\\programs\\python\\python312\\lib\\site-packages (from yfinance) (1.1)\n",
      "Requirement already satisfied: soupsieve>1.2 in c:\\users\\shash\\appdata\\local\\programs\\python\\python312\\lib\\site-packages (from beautifulsoup4>=4.11.1->yfinance) (2.5)\n",
      "Requirement already satisfied: six>=1.9 in c:\\users\\shash\\appdata\\local\\programs\\python\\python312\\lib\\site-packages (from html5lib>=1.1->yfinance) (1.16.0)\n",
      "Requirement already satisfied: webencodings in c:\\users\\shash\\appdata\\local\\programs\\python\\python312\\lib\\site-packages (from html5lib>=1.1->yfinance) (0.5.1)\n",
      "Requirement already satisfied: python-dateutil>=2.8.2 in c:\\users\\shash\\appdata\\local\\programs\\python\\python312\\lib\\site-packages (from pandas>=1.3.0->yfinance) (2.9.0.post0)\n",
      "Requirement already satisfied: tzdata>=2022.7 in c:\\users\\shash\\appdata\\local\\programs\\python\\python312\\lib\\site-packages (from pandas>=1.3.0->yfinance) (2024.1)\n",
      "Requirement already satisfied: charset-normalizer<4,>=2 in c:\\users\\shash\\appdata\\local\\programs\\python\\python312\\lib\\site-packages (from requests>=2.31->yfinance) (3.3.2)\n",
      "Requirement already satisfied: idna<4,>=2.5 in c:\\users\\shash\\appdata\\local\\programs\\python\\python312\\lib\\site-packages (from requests>=2.31->yfinance) (3.7)\n",
      "Requirement already satisfied: urllib3<3,>=1.21.1 in c:\\users\\shash\\appdata\\local\\programs\\python\\python312\\lib\\site-packages (from requests>=2.31->yfinance) (2.2.2)\n",
      "Requirement already satisfied: certifi>=2017.4.17 in c:\\users\\shash\\appdata\\local\\programs\\python\\python312\\lib\\site-packages (from requests>=2.31->yfinance) (2024.6.2)\n",
      "Downloading yfinance-0.2.52-py2.py3-none-any.whl (108 kB)\n",
      "Downloading frozendict-2.4.6-py312-none-any.whl (16 kB)\n",
      "Using cached multitasking-0.0.11-py3-none-any.whl (8.5 kB)\n",
      "Building wheels for collected packages: peewee\n",
      "  Building wheel for peewee (pyproject.toml): started\n",
      "  Building wheel for peewee (pyproject.toml): finished with status 'done'\n",
      "  Created wheel for peewee: filename=peewee-3.17.8-py3-none-any.whl size=139064 sha256=0ea0ec024955068b8fdb9cb2a1f3074f6a805e0896d1228850c7ef55be22a1c1\n",
      "  Stored in directory: c:\\users\\shash\\appdata\\local\\pip\\cache\\wheels\\8f\\65\\34\\456800445efeafb05164fe95285c70e81ba1d96bae30f43917\n",
      "Successfully built peewee\n",
      "Installing collected packages: peewee, multitasking, frozendict, yfinance\n",
      "Successfully installed frozendict-2.4.6 multitasking-0.0.11 peewee-3.17.8 yfinance-0.2.52\n"
     ]
    }
   ],
   "source": [
    "!pip install yfinance"
   ]
  },
  {
   "cell_type": "code",
   "execution_count": 147,
   "id": "4bf6aa0e-87ce-4e76-bdcf-cffa490668b1",
   "metadata": {},
   "outputs": [],
   "source": [
    "import yfinance as yf\n",
    "import numpy as np\n",
    "import pandas as pd\n",
    "%matplotlib inline \n",
    "import matplotlib.pyplot as plt\n",
    "from sklearn.pipeline import Pipeline\n",
    "from sklearn.preprocessing import StandardScaler,PolynomialFeatures\n",
    "from sklearn.linear_model import LinearRegression , Ridge\n",
    "from sklearn.model_selection import train_test_split, cross_val_score \n",
    "from sklearn.metrics import mean_squared_error, r2_score"
   ]
  },
  {
   "cell_type": "code",
   "execution_count": 3,
   "id": "16999c7a-6109-4a41-80a3-055506ba3f44",
   "metadata": {},
   "outputs": [],
   "source": [
    "apple = yf.Ticker(\"AAPL\")"
   ]
  },
  {
   "cell_type": "code",
   "execution_count": 4,
   "id": "4d76b747-2841-42e5-862e-dc80f9a462fe",
   "metadata": {},
   "outputs": [
    {
     "data": {
      "text/plain": [
       "yfinance.Ticker object <AAPL>"
      ]
     },
     "execution_count": 4,
     "metadata": {},
     "output_type": "execute_result"
    }
   ],
   "source": [
    "apple"
   ]
  },
  {
   "cell_type": "code",
   "execution_count": 8,
   "id": "ae4697c4-5f87-4959-af4b-d6281d67cce7",
   "metadata": {},
   "outputs": [],
   "source": [
    "hist_data = apple.history(period = \"max\")\n"
   ]
  },
  {
   "cell_type": "code",
   "execution_count": 9,
   "id": "af108c34-a507-4725-a543-6d932a2947b7",
   "metadata": {},
   "outputs": [
    {
     "data": {
      "text/plain": [
       "(11125, 7)"
      ]
     },
     "execution_count": 9,
     "metadata": {},
     "output_type": "execute_result"
    }
   ],
   "source": [
    "hist_data.shape"
   ]
  },
  {
   "cell_type": "code",
   "execution_count": 10,
   "id": "65a0b40b-c9b3-4143-97b4-7c355f47375a",
   "metadata": {},
   "outputs": [
    {
     "data": {
      "text/plain": [
       "Index(['Open', 'High', 'Low', 'Close', 'Volume', 'Dividends', 'Stock Splits'], dtype='object')"
      ]
     },
     "execution_count": 10,
     "metadata": {},
     "output_type": "execute_result"
    }
   ],
   "source": [
    "hist_data.columns"
   ]
  },
  {
   "cell_type": "code",
   "execution_count": 156,
   "id": "a4dbdae7-174f-47d9-ab0b-be393dc89ccc",
   "metadata": {},
   "outputs": [],
   "source": [
    "X_data = hist_data[['Open', 'High', 'Low', 'Volume']]\n",
    "Y_data = hist_data[\"Close\"]"
   ]
  },
  {
   "cell_type": "code",
   "execution_count": 157,
   "id": "bdee68b3-c8b3-45e7-98f7-335982779d60",
   "metadata": {},
   "outputs": [
    {
     "data": {
      "text/plain": [
       "Date\n",
       "1980-12-12 00:00:00-05:00      0.098834\n",
       "1980-12-15 00:00:00-05:00      0.093678\n",
       "1980-12-16 00:00:00-05:00      0.086802\n",
       "1980-12-17 00:00:00-05:00      0.088951\n",
       "1980-12-18 00:00:00-05:00      0.091530\n",
       "                                ...    \n",
       "2025-01-27 00:00:00-05:00    229.860001\n",
       "2025-01-28 00:00:00-05:00    238.259995\n",
       "2025-01-29 00:00:00-05:00    239.360001\n",
       "2025-01-30 00:00:00-05:00    237.589996\n",
       "2025-01-31 00:00:00-05:00    236.000000\n",
       "Name: Close, Length: 11125, dtype: float64"
      ]
     },
     "execution_count": 157,
     "metadata": {},
     "output_type": "execute_result"
    }
   ],
   "source": [
    "Y_data"
   ]
  },
  {
   "cell_type": "code",
   "execution_count": null,
   "id": "55d501b5-1cee-40de-bc3c-f426a97cbd6b",
   "metadata": {},
   "outputs": [],
   "source": []
  },
  {
   "cell_type": "code",
   "execution_count": 159,
   "id": "818fb066-64a9-4fd0-b088-c7254b2b9dbb",
   "metadata": {},
   "outputs": [
    {
     "data": {
      "text/plain": [
       "Text(0.5, 1.0, 'stock_data')"
      ]
     },
     "execution_count": 159,
     "metadata": {},
     "output_type": "execute_result"
    },
    {
     "data": {
      "image/png": "[encoded data removed]",
      "text/plain": [
       "<Figure size 640x480 with 1 Axes>"
      ]
     },
     "metadata": {},
     "output_type": "display_data"
    }
   ],
   "source": [
    "plt.plot(Y_data)\n",
    "plt.title(\"stock_data\")"
   ]
  },
  {
   "cell_type": "code",
   "execution_count": 100,
   "id": "4e984435-58f8-4938-8f0e-993dad84bf56",
   "metadata": {},
   "outputs": [
    {
     "data": {
      "text/html": [
       "<div>\n",
       "<style scoped>\n",
       "    .dataframe tbody tr th:only-of-type {\n",
       "        vertical-align: middle;\n",
       "    }\n",
       "\n",
       "    .dataframe tbody tr th {\n",
       "        vertical-align: top;\n",
       "    }\n",
       "\n",
       "    .dataframe thead th {\n",
       "        text-align: right;\n",
       "    }\n",
       "</style>\n",
       "<table border=\"1\" class=\"dataframe\">\n",
       "  <thead>\n",
       "    <tr style=\"text-align: right;\">\n",
       "      <th></th>\n",
       "      <th>Open</th>\n",
       "      <th>High</th>\n",
       "      <th>Low</th>\n",
       "      <th>Close</th>\n",
       "      <th>Volume</th>\n",
       "      <th>Dividends</th>\n",
       "      <th>Stock Splits</th>\n",
       "    </tr>\n",
       "    <tr>\n",
       "      <th>Date</th>\n",
       "      <th></th>\n",
       "      <th></th>\n",
       "      <th></th>\n",
       "      <th></th>\n",
       "      <th></th>\n",
       "      <th></th>\n",
       "      <th></th>\n",
       "    </tr>\n",
       "  </thead>\n",
       "  <tbody>\n",
       "    <tr>\n",
       "      <th>1980-12-12 00:00:00-05:00</th>\n",
       "      <td>0.098834</td>\n",
       "      <td>0.099264</td>\n",
       "      <td>0.098834</td>\n",
       "      <td>0.098834</td>\n",
       "      <td>469033600</td>\n",
       "      <td>0.0</td>\n",
       "      <td>0.0</td>\n",
       "    </tr>\n",
       "    <tr>\n",
       "      <th>1980-12-15 00:00:00-05:00</th>\n",
       "      <td>0.094108</td>\n",
       "      <td>0.094108</td>\n",
       "      <td>0.093678</td>\n",
       "      <td>0.093678</td>\n",
       "      <td>175884800</td>\n",
       "      <td>0.0</td>\n",
       "      <td>0.0</td>\n",
       "    </tr>\n",
       "    <tr>\n",
       "      <th>1980-12-16 00:00:00-05:00</th>\n",
       "      <td>0.087232</td>\n",
       "      <td>0.087232</td>\n",
       "      <td>0.086802</td>\n",
       "      <td>0.086802</td>\n",
       "      <td>105728000</td>\n",
       "      <td>0.0</td>\n",
       "      <td>0.0</td>\n",
       "    </tr>\n",
       "    <tr>\n",
       "      <th>1980-12-17 00:00:00-05:00</th>\n",
       "      <td>0.088951</td>\n",
       "      <td>0.089381</td>\n",
       "      <td>0.088951</td>\n",
       "      <td>0.088951</td>\n",
       "      <td>86441600</td>\n",
       "      <td>0.0</td>\n",
       "      <td>0.0</td>\n",
       "    </tr>\n",
       "    <tr>\n",
       "      <th>1980-12-18 00:00:00-05:00</th>\n",
       "      <td>0.091530</td>\n",
       "      <td>0.091959</td>\n",
       "      <td>0.091530</td>\n",
       "      <td>0.091530</td>\n",
       "      <td>73449600</td>\n",
       "      <td>0.0</td>\n",
       "      <td>0.0</td>\n",
       "    </tr>\n",
       "  </tbody>\n",
       "</table>\n",
       "</div>"
      ],
      "text/plain": [
       "                               Open      High       Low     Close     Volume  \\\n",
       "Date                                                                           \n",
       "1980-12-12 00:00:00-05:00  0.098834  0.099264  0.098834  0.098834  469033600   \n",
       "1980-12-15 00:00:00-05:00  0.094108  0.094108  0.093678  0.093678  175884800   \n",
       "1980-12-16 00:00:00-05:00  0.087232  0.087232  0.086802  0.086802  105728000   \n",
       "1980-12-17 00:00:00-05:00  0.088951  0.089381  0.088951  0.088951   86441600   \n",
       "1980-12-18 00:00:00-05:00  0.091530  0.091959  0.091530  0.091530   73449600   \n",
       "\n",
       "                           Dividends  Stock Splits  \n",
       "Date                                                \n",
       "1980-12-12 00:00:00-05:00        0.0           0.0  \n",
       "1980-12-15 00:00:00-05:00        0.0           0.0  \n",
       "1980-12-16 00:00:00-05:00        0.0           0.0  \n",
       "1980-12-17 00:00:00-05:00        0.0           0.0  \n",
       "1980-12-18 00:00:00-05:00        0.0           0.0  "
      ]
     },
     "execution_count": 100,
     "metadata": {},
     "output_type": "execute_result"
    }
   ],
   "source": [
    "hist_data.head(5)"
   ]
  },
  {
   "cell_type": "code",
   "execution_count": 101,
   "id": "b4ce8bd3-7e5b-4396-a601-50f7a2fc208c",
   "metadata": {},
   "outputs": [
    {
     "data": {
      "text/html": [
       "<div>\n",
       "<style scoped>\n",
       "    .dataframe tbody tr th:only-of-type {\n",
       "        vertical-align: middle;\n",
       "    }\n",
       "\n",
       "    .dataframe tbody tr th {\n",
       "        vertical-align: top;\n",
       "    }\n",
       "\n",
       "    .dataframe thead th {\n",
       "        text-align: right;\n",
       "    }\n",
       "</style>\n",
       "<table border=\"1\" class=\"dataframe\">\n",
       "  <thead>\n",
       "    <tr style=\"text-align: right;\">\n",
       "      <th></th>\n",
       "      <th>Open</th>\n",
       "      <th>High</th>\n",
       "      <th>Low</th>\n",
       "      <th>Close</th>\n",
       "      <th>Volume</th>\n",
       "      <th>Dividends</th>\n",
       "      <th>Stock Splits</th>\n",
       "    </tr>\n",
       "  </thead>\n",
       "  <tbody>\n",
       "    <tr>\n",
       "      <th>Open</th>\n",
       "      <td>1.000000</td>\n",
       "      <td>0.999947</td>\n",
       "      <td>0.999943</td>\n",
       "      <td>0.999882</td>\n",
       "      <td>-0.266473</td>\n",
       "      <td>0.092723</td>\n",
       "      <td>0.005163</td>\n",
       "    </tr>\n",
       "    <tr>\n",
       "      <th>High</th>\n",
       "      <td>0.999947</td>\n",
       "      <td>1.000000</td>\n",
       "      <td>0.999929</td>\n",
       "      <td>0.999946</td>\n",
       "      <td>-0.266179</td>\n",
       "      <td>0.092421</td>\n",
       "      <td>0.005345</td>\n",
       "    </tr>\n",
       "    <tr>\n",
       "      <th>Low</th>\n",
       "      <td>0.999943</td>\n",
       "      <td>0.999929</td>\n",
       "      <td>1.000000</td>\n",
       "      <td>0.999947</td>\n",
       "      <td>-0.266936</td>\n",
       "      <td>0.092680</td>\n",
       "      <td>0.005136</td>\n",
       "    </tr>\n",
       "    <tr>\n",
       "      <th>Close</th>\n",
       "      <td>0.999882</td>\n",
       "      <td>0.999946</td>\n",
       "      <td>0.999947</td>\n",
       "      <td>1.000000</td>\n",
       "      <td>-0.266564</td>\n",
       "      <td>0.092588</td>\n",
       "      <td>0.005311</td>\n",
       "    </tr>\n",
       "    <tr>\n",
       "      <th>Volume</th>\n",
       "      <td>-0.266473</td>\n",
       "      <td>-0.266179</td>\n",
       "      <td>-0.266936</td>\n",
       "      <td>-0.266564</td>\n",
       "      <td>1.000000</td>\n",
       "      <td>-0.035765</td>\n",
       "      <td>0.002026</td>\n",
       "    </tr>\n",
       "    <tr>\n",
       "      <th>Dividends</th>\n",
       "      <td>0.092723</td>\n",
       "      <td>0.092421</td>\n",
       "      <td>0.092680</td>\n",
       "      <td>0.092588</td>\n",
       "      <td>-0.035765</td>\n",
       "      <td>1.000000</td>\n",
       "      <td>-0.001192</td>\n",
       "    </tr>\n",
       "    <tr>\n",
       "      <th>Stock Splits</th>\n",
       "      <td>0.005163</td>\n",
       "      <td>0.005345</td>\n",
       "      <td>0.005136</td>\n",
       "      <td>0.005311</td>\n",
       "      <td>0.002026</td>\n",
       "      <td>-0.001192</td>\n",
       "      <td>1.000000</td>\n",
       "    </tr>\n",
       "  </tbody>\n",
       "</table>\n",
       "</div>"
      ],
      "text/plain": [
       "                  Open      High       Low     Close    Volume  Dividends  \\\n",
       "Open          1.000000  0.999947  0.999943  0.999882 -0.266473   0.092723   \n",
       "High          0.999947  1.000000  0.999929  0.999946 -0.266179   0.092421   \n",
       "Low           0.999943  0.999929  1.000000  0.999947 -0.266936   0.092680   \n",
       "Close         0.999882  0.999946  0.999947  1.000000 -0.266564   0.092588   \n",
       "Volume       -0.266473 -0.266179 -0.266936 -0.266564  1.000000  -0.035765   \n",
       "Dividends     0.092723  0.092421  0.092680  0.092588 -0.035765   1.000000   \n",
       "Stock Splits  0.005163  0.005345  0.005136  0.005311  0.002026  -0.001192   \n",
       "\n",
       "              Stock Splits  \n",
       "Open              0.005163  \n",
       "High              0.005345  \n",
       "Low               0.005136  \n",
       "Close             0.005311  \n",
       "Volume            0.002026  \n",
       "Dividends        -0.001192  \n",
       "Stock Splits      1.000000  "
      ]
     },
     "execution_count": 101,
     "metadata": {},
     "output_type": "execute_result"
    }
   ],
   "source": [
    "hist_data.corr()"
   ]
  },
  {
   "cell_type": "code",
   "execution_count": 160,
   "id": "cf20be00-629a-4be8-85bc-10793ec33340",
   "metadata": {},
   "outputs": [],
   "source": [
    "x_train, x_temp, y_train, y_temp = train_test_split(X_data,Y_data, test_size=0.4, random_state=2)\n",
    "x_cv, x_test, y_cv, y_test = train_test_split(x_temp,y_temp, test_size=0.5, random_state=2)\n"
   ]
  },
  {
   "cell_type": "code",
   "execution_count": 161,
   "id": "b887254f-516c-4a67-853c-08dc4c646832",
   "metadata": {},
   "outputs": [],
   "source": [
    "norm = StandardScaler()\n",
    "x_train_scale = norm.fit_transform(x_train)\n",
    "x_cv_scale = norm.transform(x_cv)\n",
    "x_test_scale = norm.transform(x_test)"
   ]
  },
  {
   "cell_type": "code",
   "execution_count": 162,
   "id": "63352b19-d643-46b4-ab5b-e2a0c982e0dc",
   "metadata": {},
   "outputs": [],
   "source": [
    "degrees = range(1,11)\n",
    "cv_scores = []\n",
    "poly_trans = []\n",
    "models = []\n",
    "\n",
    "for degree in  degrees:\n",
    "\n",
    "    poly = PolynomialFeatures(degree = degree, include_bias=False)\n",
    "    x_poly_train = poly.fit_transform(x_train_scale)\n",
    "    x_poly_cv = poly.transform(x_cv_scale)\n",
    "    poly_trans.append(poly)\n",
    "\n",
    "    model = LinearRegression()\n",
    "    model.fit(x_poly_train,y_train)\n",
    "    models.append(model)\n",
    "\n",
    "    cv_score = -cross_val_score(model , x_poly_cv , y_cv, cv=3 , scoring=\"neg_mean_squared_error\").mean()\n",
    "    cv_scores.append(cv_score)\n"
   ]
  },
  {
   "cell_type": "code",
   "execution_count": 163,
   "id": "e1390da8-644f-476d-964f-9550ec63a7e9",
   "metadata": {},
   "outputs": [
    {
     "data": {
      "image/png": "[encoded data removed]",
      "text/plain": [
       "<Figure size 640x480 with 1 Axes>"
      ]
     },
     "metadata": {},
     "output_type": "display_data"
    }
   ],
   "source": [
    "plt.plot(degrees , cv_scores, marker = \"o\")\n",
    "plt.xlabel(\"Polynomal Degrees\")\n",
    "plt.ylabel(\"MSE\")\n",
    "plt.title(\"Degree VS MSE\")\n",
    "plt.show()\n"
   ]
  },
  {
   "cell_type": "code",
   "execution_count": 164,
   "id": "ed346cfe-584a-41b5-af76-158ed3d2bb7d",
   "metadata": {},
   "outputs": [
    {
     "data": {
      "text/plain": [
       "np.int64(0)"
      ]
     },
     "execution_count": 164,
     "metadata": {},
     "output_type": "execute_result"
    }
   ],
   "source": [
    "np.argmin(cv_scores)"
   ]
  },
  {
   "cell_type": "code",
   "execution_count": 170,
   "id": "faf2809a-3d51-45f8-83eb-1eb4d4ae0ee4",
   "metadata": {},
   "outputs": [
    {
     "name": "stdout",
     "output_type": "stream",
     "text": [
      "r2 score of best model i.e. model 0 with degree 1 is :- 0.9999488901984089\n"
     ]
    }
   ],
   "source": [
    "best_model = np.argmin(cv_scores)\n",
    "x_poly_test = poly_trans[best_model].transform(x_test_scale)\n",
    "y_hat = models[best_model].predict(x_poly_test)\n",
    "\n",
    "print(f\"r2 score of best model i.e. model {best_model} with degree {degrees[best_model]} is :- {r2_score(y_hat , y_test)}\")"
   ]
  },
  {
   "cell_type": "code",
   "execution_count": 174,
   "id": "5fdb69f2-a9ae-4e17-9430-1b01a07e6e6c",
   "metadata": {},
   "outputs": [
    {
     "data": {
      "text/plain": [
       "Date\n",
       "1989-05-26 00:00:00-04:00      0.339652\n",
       "1988-08-15 00:00:00-04:00      0.286698\n",
       "1985-01-11 00:00:00-05:00      0.102273\n",
       "2011-02-10 00:00:00-05:00     10.681116\n",
       "2022-07-13 00:00:00-04:00    143.538147\n",
       "                                ...    \n",
       "2005-02-25 00:00:00-05:00      1.340487\n",
       "2014-10-06 00:00:00-04:00     22.089025\n",
       "2003-10-14 00:00:00-04:00      0.369805\n",
       "1995-05-23 00:00:00-04:00      0.327620\n",
       "2000-12-07 00:00:00-05:00      0.215594\n",
       "Name: Close, Length: 2225, dtype: float64"
      ]
     },
     "execution_count": 174,
     "metadata": {},
     "output_type": "execute_result"
    }
   ],
   "source": [
    "y_test"
   ]
  },
  {
   "cell_type": "code",
   "execution_count": 181,
   "id": "ba53f966-719d-42d1-af0b-4cfc8cea2f95",
   "metadata": {},
   "outputs": [
    {
     "data": {
      "image/png": "[encoded data removed]",
      "text/plain": [
       "<Figure size 640x480 with 1 Axes>"
      ]
     },
     "metadata": {},
     "output_type": "display_data"
    }
   ],
   "source": [
    "plt.plot(y_test.index, y_test.values, label=\"Actual\",linestyle='--', color = \"blue\")\n",
    "plt.plot(y_test.index , y_hat, label=\"Predicted\", color = \"red\")\n",
    "plt.legend()\n",
    "plt.title(f\"Actual vs Predicted Stock Prices (Degree {degrees[best_model]})\")\n",
    "plt.xlabel(\"Time\")\n",
    "plt.ylabel(\"Price\")\n",
    "plt.show()"
   ]
  },
  {
   "cell_type": "code",
   "execution_count": null,
   "id": "bcf7c567-f591-4e47-bd72-b5a055f51934",
   "metadata": {},
   "outputs": [],
   "source": [
    "y_hat = models[best_model].predict(x_poly_test)"
   ]
  }
 ],
 "metadata": {
  "kernelspec": {
   "display_name": "Python 3 (ipykernel)",
   "language": "python",
   "name": "python3"
  },
  "language_info": {
   "codemirror_mode": {
    "name": "ipython",
    "version": 3
   },
   "file_extension": ".py",
   "mimetype": "text/x-python",
   "name": "python",
   "nbconvert_exporter": "python",
   "pygments_lexer": "ipython3",
   "version": "3.12.6"
  }
 },
 "nbformat": 4,
 "nbformat_minor": 5
}
